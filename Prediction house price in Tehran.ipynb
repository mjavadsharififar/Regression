{
 "cells": [
  {
   "cell_type": "markdown",
   "metadata": {},
   "source": [
    "# 1. Introduction"
   ]
  },
  {
   "cell_type": "markdown",
   "metadata": {},
   "source": [
    "<b> Name: </b> Mohammad Javad Sharififar\n",
    "\n",
    "<b> E-Mail: </b> Sharifi700@gmail.com\n",
    "\n",
    "<b> Discription: </b> Thsi code is a model which trained on <i> Data.csv (price of houses in Tehran) </i> from <i> https://github.com/amiralimadadi/Regression_TheranHousing </i>. Here we want to predict the price of house in Tehran"
   ]
  },
  {
   "cell_type": "markdown",
   "metadata": {},
   "source": [
    "# 2. Set the Notebook"
   ]
  },
  {
   "cell_type": "code",
   "execution_count": 1,
   "metadata": {},
   "outputs": [],
   "source": [
    "#importing needed libraries\n",
    "import numpy as np\n",
    "import pandas as pd\n",
    "import matplotlib.pyplot as plt\n",
    "import seaborn as sns"
   ]
  },
  {
   "cell_type": "code",
   "execution_count": 2,
   "metadata": {},
   "outputs": [],
   "source": [
    "#import data\n",
    "data_or = pd.read_csv(\"https://raw.githubusercontent.com/amiralimadadi/Regression_TheranHousing/main/Data.csv\")"
   ]
  },
  {
   "cell_type": "code",
   "execution_count": 3,
   "metadata": {},
   "outputs": [],
   "source": [
    "data = data_or.copy() #we work on data to not lose original data in case of needings"
   ]
  },
  {
   "cell_type": "markdown",
   "metadata": {},
   "source": [
    "# 3. Exploratory Data Analysis"
   ]
  },
  {
   "cell_type": "code",
   "execution_count": 4,
   "metadata": {},
   "outputs": [
    {
     "data": {
      "text/html": [
       "<div>\n",
       "<style scoped>\n",
       "    .dataframe tbody tr th:only-of-type {\n",
       "        vertical-align: middle;\n",
       "    }\n",
       "\n",
       "    .dataframe tbody tr th {\n",
       "        vertical-align: top;\n",
       "    }\n",
       "\n",
       "    .dataframe thead th {\n",
       "        text-align: right;\n",
       "    }\n",
       "</style>\n",
       "<table border=\"1\" class=\"dataframe\">\n",
       "  <thead>\n",
       "    <tr style=\"text-align: right;\">\n",
       "      <th></th>\n",
       "      <th>total_value</th>\n",
       "      <th>neighborhood</th>\n",
       "      <th>area</th>\n",
       "      <th>year</th>\n",
       "      <th>deposit</th>\n",
       "      <th>rent</th>\n",
       "      <th>elavator</th>\n",
       "      <th>parking</th>\n",
       "      <th>warehouse</th>\n",
       "    </tr>\n",
       "  </thead>\n",
       "  <tbody>\n",
       "    <tr>\n",
       "      <th>0</th>\n",
       "      <td>2.000900e+09</td>\n",
       "      <td>ولنجک</td>\n",
       "      <td>270</td>\n",
       "      <td>1399</td>\n",
       "      <td>2.000000e+09</td>\n",
       "      <td>30000000.0</td>\n",
       "      <td>1</td>\n",
       "      <td>1</td>\n",
       "      <td>1</td>\n",
       "    </tr>\n",
       "    <tr>\n",
       "      <th>1</th>\n",
       "      <td>2.001200e+08</td>\n",
       "      <td>کوی فردوس</td>\n",
       "      <td>70</td>\n",
       "      <td>1387</td>\n",
       "      <td>2.000000e+08</td>\n",
       "      <td>4000000.0</td>\n",
       "      <td>0</td>\n",
       "      <td>1</td>\n",
       "      <td>1</td>\n",
       "    </tr>\n",
       "    <tr>\n",
       "      <th>2</th>\n",
       "      <td>3.502550e+08</td>\n",
       "      <td>پونک</td>\n",
       "      <td>120</td>\n",
       "      <td>1395</td>\n",
       "      <td>3.500000e+08</td>\n",
       "      <td>8500000.0</td>\n",
       "      <td>1</td>\n",
       "      <td>1</td>\n",
       "      <td>1</td>\n",
       "    </tr>\n",
       "    <tr>\n",
       "      <th>3</th>\n",
       "      <td>2.003000e+08</td>\n",
       "      <td>هروی</td>\n",
       "      <td>110</td>\n",
       "      <td>1395</td>\n",
       "      <td>2.000000e+08</td>\n",
       "      <td>10000000.0</td>\n",
       "      <td>1</td>\n",
       "      <td>1</td>\n",
       "      <td>1</td>\n",
       "    </tr>\n",
       "    <tr>\n",
       "      <th>4</th>\n",
       "      <td>2.001800e+08</td>\n",
       "      <td>پونک</td>\n",
       "      <td>80</td>\n",
       "      <td>1387</td>\n",
       "      <td>2.000000e+08</td>\n",
       "      <td>6000000.0</td>\n",
       "      <td>1</td>\n",
       "      <td>1</td>\n",
       "      <td>1</td>\n",
       "    </tr>\n",
       "    <tr>\n",
       "      <th>...</th>\n",
       "      <td>...</td>\n",
       "      <td>...</td>\n",
       "      <td>...</td>\n",
       "      <td>...</td>\n",
       "      <td>...</td>\n",
       "      <td>...</td>\n",
       "      <td>...</td>\n",
       "      <td>...</td>\n",
       "      <td>...</td>\n",
       "    </tr>\n",
       "    <tr>\n",
       "      <th>12378</th>\n",
       "      <td>7.000000e+08</td>\n",
       "      <td>مرزداران</td>\n",
       "      <td>170</td>\n",
       "      <td>1375</td>\n",
       "      <td>7.000000e+08</td>\n",
       "      <td>0.0</td>\n",
       "      <td>0</td>\n",
       "      <td>1</td>\n",
       "      <td>1</td>\n",
       "    </tr>\n",
       "    <tr>\n",
       "      <th>12379</th>\n",
       "      <td>1.000810e+08</td>\n",
       "      <td>امیریه</td>\n",
       "      <td>91</td>\n",
       "      <td>1380</td>\n",
       "      <td>1.000000e+08</td>\n",
       "      <td>2700000.0</td>\n",
       "      <td>0</td>\n",
       "      <td>1</td>\n",
       "      <td>1</td>\n",
       "    </tr>\n",
       "    <tr>\n",
       "      <th>12380</th>\n",
       "      <td>2.001800e+08</td>\n",
       "      <td>دارآباد</td>\n",
       "      <td>80</td>\n",
       "      <td>1395</td>\n",
       "      <td>2.000000e+08</td>\n",
       "      <td>6000000.0</td>\n",
       "      <td>1</td>\n",
       "      <td>1</td>\n",
       "      <td>1</td>\n",
       "    </tr>\n",
       "    <tr>\n",
       "      <th>12381</th>\n",
       "      <td>8.000000e+08</td>\n",
       "      <td>پاسداران</td>\n",
       "      <td>100</td>\n",
       "      <td>1399</td>\n",
       "      <td>8.000000e+08</td>\n",
       "      <td>0.0</td>\n",
       "      <td>1</td>\n",
       "      <td>1</td>\n",
       "      <td>1</td>\n",
       "    </tr>\n",
       "    <tr>\n",
       "      <th>12382</th>\n",
       "      <td>1.001800e+08</td>\n",
       "      <td>نارمک</td>\n",
       "      <td>90</td>\n",
       "      <td>1398</td>\n",
       "      <td>1.000000e+08</td>\n",
       "      <td>6000000.0</td>\n",
       "      <td>1</td>\n",
       "      <td>1</td>\n",
       "      <td>1</td>\n",
       "    </tr>\n",
       "  </tbody>\n",
       "</table>\n",
       "<p>12383 rows × 9 columns</p>\n",
       "</div>"
      ],
      "text/plain": [
       "        total_value neighborhood  area  year       deposit        rent  \\\n",
       "0      2.000900e+09       ولنجک    270  1399  2.000000e+09  30000000.0   \n",
       "1      2.001200e+08   کوی فردوس     70  1387  2.000000e+08   4000000.0   \n",
       "2      3.502550e+08        پونک    120  1395  3.500000e+08   8500000.0   \n",
       "3      2.003000e+08        هروی    110  1395  2.000000e+08  10000000.0   \n",
       "4      2.001800e+08        پونک     80  1387  2.000000e+08   6000000.0   \n",
       "...             ...          ...   ...   ...           ...         ...   \n",
       "12378  7.000000e+08    مرزداران    170  1375  7.000000e+08         0.0   \n",
       "12379  1.000810e+08      امیریه     91  1380  1.000000e+08   2700000.0   \n",
       "12380  2.001800e+08     دارآباد     80  1395  2.000000e+08   6000000.0   \n",
       "12381  8.000000e+08    پاسداران    100  1399  8.000000e+08         0.0   \n",
       "12382  1.001800e+08       نارمک     90  1398  1.000000e+08   6000000.0   \n",
       "\n",
       "       elavator  parking  warehouse  \n",
       "0             1        1          1  \n",
       "1             0        1          1  \n",
       "2             1        1          1  \n",
       "3             1        1          1  \n",
       "4             1        1          1  \n",
       "...         ...      ...        ...  \n",
       "12378         0        1          1  \n",
       "12379         0        1          1  \n",
       "12380         1        1          1  \n",
       "12381         1        1          1  \n",
       "12382         1        1          1  \n",
       "\n",
       "[12383 rows x 9 columns]"
      ]
     },
     "execution_count": 4,
     "metadata": {},
     "output_type": "execute_result"
    }
   ],
   "source": [
    "data"
   ]
  },
  {
   "cell_type": "markdown",
   "metadata": {},
   "source": [
    "Its obvious that we want to predict <i> total_value </i> feature by regression. Its also important that total value is <i> deposite + 3 rent </i>, so we cant use these t features to predict the target."
   ]
  },
  {
   "cell_type": "code",
   "execution_count": 5,
   "metadata": {},
   "outputs": [
    {
     "data": {
      "text/html": [
       "<div>\n",
       "<style scoped>\n",
       "    .dataframe tbody tr th:only-of-type {\n",
       "        vertical-align: middle;\n",
       "    }\n",
       "\n",
       "    .dataframe tbody tr th {\n",
       "        vertical-align: top;\n",
       "    }\n",
       "\n",
       "    .dataframe thead th {\n",
       "        text-align: right;\n",
       "    }\n",
       "</style>\n",
       "<table border=\"1\" class=\"dataframe\">\n",
       "  <thead>\n",
       "    <tr style=\"text-align: right;\">\n",
       "      <th></th>\n",
       "      <th>total_value</th>\n",
       "      <th>area</th>\n",
       "      <th>year</th>\n",
       "      <th>deposit</th>\n",
       "      <th>rent</th>\n",
       "      <th>elavator</th>\n",
       "      <th>parking</th>\n",
       "      <th>warehouse</th>\n",
       "    </tr>\n",
       "  </thead>\n",
       "  <tbody>\n",
       "    <tr>\n",
       "      <th>count</th>\n",
       "      <td>1.238300e+04</td>\n",
       "      <td>12383.000000</td>\n",
       "      <td>12383.000000</td>\n",
       "      <td>1.238300e+04</td>\n",
       "      <td>1.238300e+04</td>\n",
       "      <td>12383.000000</td>\n",
       "      <td>12383.000000</td>\n",
       "      <td>12383.000000</td>\n",
       "    </tr>\n",
       "    <tr>\n",
       "      <th>mean</th>\n",
       "      <td>4.958421e+08</td>\n",
       "      <td>171.521198</td>\n",
       "      <td>1391.682468</td>\n",
       "      <td>4.952882e+08</td>\n",
       "      <td>1.846474e+07</td>\n",
       "      <td>0.806347</td>\n",
       "      <td>0.884923</td>\n",
       "      <td>0.999838</td>\n",
       "    </tr>\n",
       "    <tr>\n",
       "      <th>std</th>\n",
       "      <td>8.858276e+08</td>\n",
       "      <td>2979.645853</td>\n",
       "      <td>6.686362</td>\n",
       "      <td>8.856925e+08</td>\n",
       "      <td>4.773774e+08</td>\n",
       "      <td>0.395176</td>\n",
       "      <td>0.319128</td>\n",
       "      <td>0.012708</td>\n",
       "    </tr>\n",
       "    <tr>\n",
       "      <th>min</th>\n",
       "      <td>0.000000e+00</td>\n",
       "      <td>5.000000</td>\n",
       "      <td>1363.000000</td>\n",
       "      <td>0.000000e+00</td>\n",
       "      <td>0.000000e+00</td>\n",
       "      <td>0.000000</td>\n",
       "      <td>0.000000</td>\n",
       "      <td>0.000000</td>\n",
       "    </tr>\n",
       "    <tr>\n",
       "      <th>25%</th>\n",
       "      <td>1.001800e+08</td>\n",
       "      <td>80.000000</td>\n",
       "      <td>1387.000000</td>\n",
       "      <td>1.000000e+08</td>\n",
       "      <td>0.000000e+00</td>\n",
       "      <td>1.000000</td>\n",
       "      <td>1.000000</td>\n",
       "      <td>1.000000</td>\n",
       "    </tr>\n",
       "    <tr>\n",
       "      <th>50%</th>\n",
       "      <td>3.000000e+08</td>\n",
       "      <td>115.000000</td>\n",
       "      <td>1393.000000</td>\n",
       "      <td>3.000000e+08</td>\n",
       "      <td>1.500000e+06</td>\n",
       "      <td>1.000000</td>\n",
       "      <td>1.000000</td>\n",
       "      <td>1.000000</td>\n",
       "    </tr>\n",
       "    <tr>\n",
       "      <th>75%</th>\n",
       "      <td>5.509000e+08</td>\n",
       "      <td>155.000000</td>\n",
       "      <td>1397.000000</td>\n",
       "      <td>5.500000e+08</td>\n",
       "      <td>8.000000e+06</td>\n",
       "      <td>1.000000</td>\n",
       "      <td>1.000000</td>\n",
       "      <td>1.000000</td>\n",
       "    </tr>\n",
       "    <tr>\n",
       "      <th>max</th>\n",
       "      <td>5.000014e+10</td>\n",
       "      <td>300000.000000</td>\n",
       "      <td>1399.000000</td>\n",
       "      <td>5.000000e+10</td>\n",
       "      <td>3.500000e+10</td>\n",
       "      <td>1.000000</td>\n",
       "      <td>1.000000</td>\n",
       "      <td>1.000000</td>\n",
       "    </tr>\n",
       "  </tbody>\n",
       "</table>\n",
       "</div>"
      ],
      "text/plain": [
       "        total_value           area          year       deposit          rent  \\\n",
       "count  1.238300e+04   12383.000000  12383.000000  1.238300e+04  1.238300e+04   \n",
       "mean   4.958421e+08     171.521198   1391.682468  4.952882e+08  1.846474e+07   \n",
       "std    8.858276e+08    2979.645853      6.686362  8.856925e+08  4.773774e+08   \n",
       "min    0.000000e+00       5.000000   1363.000000  0.000000e+00  0.000000e+00   \n",
       "25%    1.001800e+08      80.000000   1387.000000  1.000000e+08  0.000000e+00   \n",
       "50%    3.000000e+08     115.000000   1393.000000  3.000000e+08  1.500000e+06   \n",
       "75%    5.509000e+08     155.000000   1397.000000  5.500000e+08  8.000000e+06   \n",
       "max    5.000014e+10  300000.000000   1399.000000  5.000000e+10  3.500000e+10   \n",
       "\n",
       "           elavator       parking     warehouse  \n",
       "count  12383.000000  12383.000000  12383.000000  \n",
       "mean       0.806347      0.884923      0.999838  \n",
       "std        0.395176      0.319128      0.012708  \n",
       "min        0.000000      0.000000      0.000000  \n",
       "25%        1.000000      1.000000      1.000000  \n",
       "50%        1.000000      1.000000      1.000000  \n",
       "75%        1.000000      1.000000      1.000000  \n",
       "max        1.000000      1.000000      1.000000  "
      ]
     },
     "execution_count": 5,
     "metadata": {},
     "output_type": "execute_result"
    }
   ],
   "source": [
    "data.describe()"
   ]
  },
  {
   "cell_type": "markdown",
   "metadata": {},
   "source": [
    "Here we got some insight about data, also we see that we have some incorrect data that should be removed or imputed, like total_value = 0, area = 5 or 3e5"
   ]
  },
  {
   "cell_type": "code",
   "execution_count": 6,
   "metadata": {},
   "outputs": [
    {
     "name": "stdout",
     "output_type": "stream",
     "text": [
      "<class 'pandas.core.frame.DataFrame'>\n",
      "RangeIndex: 12383 entries, 0 to 12382\n",
      "Data columns (total 9 columns):\n",
      " #   Column        Non-Null Count  Dtype  \n",
      "---  ------        --------------  -----  \n",
      " 0   total_value   12383 non-null  float64\n",
      " 1   neighborhood  12383 non-null  object \n",
      " 2   area          12383 non-null  int64  \n",
      " 3   year          12383 non-null  int64  \n",
      " 4   deposit       12383 non-null  float64\n",
      " 5   rent          12383 non-null  float64\n",
      " 6   elavator      12383 non-null  int64  \n",
      " 7   parking       12383 non-null  int64  \n",
      " 8   warehouse     12383 non-null  int64  \n",
      "dtypes: float64(3), int64(5), object(1)\n",
      "memory usage: 870.8+ KB\n"
     ]
    }
   ],
   "source": [
    "data.info()"
   ]
  },
  {
   "cell_type": "markdown",
   "metadata": {},
   "source": [
    "also we checke feature Dtype and the null value.. till now we dont have any problem!"
   ]
  },
  {
   "cell_type": "markdown",
   "metadata": {},
   "source": [
    "Now lets go to each variable and see the distribution of that.. we start with numerical variables."
   ]
  },
  {
   "cell_type": "code",
   "execution_count": 7,
   "metadata": {},
   "outputs": [
    {
     "name": "stderr",
     "output_type": "stream",
     "text": [
      "C:\\Users\\MJavad\\anaconda3\\lib\\site-packages\\seaborn\\_decorators.py:36: FutureWarning: Pass the following variable as a keyword arg: x. From version 0.12, the only valid positional argument will be `data`, and passing other arguments without an explicit keyword will result in an error or misinterpretation.\n",
      "  warnings.warn(\n"
     ]
    },
    {
     "data": {
      "image/png": "[encoded data removed]",
      "text/plain": [
       "<Figure size 1080x432 with 1 Axes>"
      ]
     },
     "metadata": {},
     "output_type": "display_data"
    },
    {
     "name": "stderr",
     "output_type": "stream",
     "text": [
      "C:\\Users\\MJavad\\anaconda3\\lib\\site-packages\\seaborn\\_decorators.py:36: FutureWarning: Pass the following variable as a keyword arg: x. From version 0.12, the only valid positional argument will be `data`, and passing other arguments without an explicit keyword will result in an error or misinterpretation.\n",
      "  warnings.warn(\n"
     ]
    },
    {
     "data": {
      "image/png": "[encoded data removed]",
      "text/plain": [
       "<Figure size 1080x432 with 1 Axes>"
      ]
     },
     "metadata": {},
     "output_type": "display_data"
    }
   ],
   "source": [
    "num_data = ['total_value','area']\n",
    "\n",
    "sns.set_style(\"darkgrid\")\n",
    "sns.set_palette(\"pastel\")\n",
    "\n",
    "for i in num_data:\n",
    "    plt.figure(figsize = (15,6))\n",
    "    sns.boxplot(data[i])\n",
    "    plt.show()"
   ]
  },
  {
   "cell_type": "markdown",
   "metadata": {},
   "source": [
    "Here we see that we have absolute outliers in both variables, so we remove them all"
   ]
  },
  {
   "cell_type": "code",
   "execution_count": 8,
   "metadata": {},
   "outputs": [],
   "source": [
    "#Removing Outliers\n",
    "for i in num_data:\n",
    "    Q1 = data[i].quantile(0.25)\n",
    "    Q3 = data[i].quantile(0.75)\n",
    "    IQ = Q3-Q1\n",
    "    data[i] = np.where(np.logical_or(data[i]>(Q3 + 1.5*IQ) ,data[i]< (Q1 - 1.5*IQ)) ,np.nan, data[i]) #change them to NaN"
   ]
  },
  {
   "cell_type": "markdown",
   "metadata": {},
   "source": [
    "Lets check what happend to the data know"
   ]
  },
  {
   "cell_type": "code",
   "execution_count": 9,
   "metadata": {},
   "outputs": [
    {
     "name": "stderr",
     "output_type": "stream",
     "text": [
      "C:\\Users\\MJavad\\anaconda3\\lib\\site-packages\\seaborn\\_decorators.py:36: FutureWarning: Pass the following variable as a keyword arg: x. From version 0.12, the only valid positional argument will be `data`, and passing other arguments without an explicit keyword will result in an error or misinterpretation.\n",
      "  warnings.warn(\n"
     ]
    },
    {
     "data": {
      "image/png": "[encoded data removed]",
      "text/plain": [
       "<Figure size 1080x432 with 1 Axes>"
      ]
     },
     "metadata": {},
     "output_type": "display_data"
    },
    {
     "name": "stderr",
     "output_type": "stream",
     "text": [
      "C:\\Users\\MJavad\\anaconda3\\lib\\site-packages\\seaborn\\_decorators.py:36: FutureWarning: Pass the following variable as a keyword arg: x. From version 0.12, the only valid positional argument will be `data`, and passing other arguments without an explicit keyword will result in an error or misinterpretation.\n",
      "  warnings.warn(\n"
     ]
    },
    {
     "data": {
      "image/png": "[encoded data removed]",
      "text/plain": [
       "<Figure size 1080x432 with 1 Axes>"
      ]
     },
     "metadata": {},
     "output_type": "display_data"
    }
   ],
   "source": [
    "for i in num_data:\n",
    "    plt.figure(figsize = (15,6))\n",
    "    sns.boxplot(data[i])\n",
    "    plt.show()"
   ]
  },
  {
   "cell_type": "markdown",
   "metadata": {},
   "source": [
    "lets see how many numbers removed..."
   ]
  },
  {
   "cell_type": "code",
   "execution_count": 10,
   "metadata": {},
   "outputs": [
    {
     "name": "stdout",
     "output_type": "stream",
     "text": [
      "1060 value(s) removed in total_value\n",
      "652 value(s) removed in area\n"
     ]
    }
   ],
   "source": [
    "for i in num_data:\n",
    "    print(\"{} value(s) removed in {}\".format(data[i].isnull().sum(),i))"
   ]
  },
  {
   "cell_type": "markdown",
   "metadata": {},
   "source": [
    "it seema that we dont have any outlier now, but we have some incorrect data in both variables. so we have a look at Min of each variable"
   ]
  },
  {
   "cell_type": "code",
   "execution_count": 11,
   "metadata": {},
   "outputs": [
    {
     "name": "stdout",
     "output_type": "stream",
     "text": [
      "total_value\n",
      "0.00        1536\n",
      "30.09          1\n",
      "50.24          1\n",
      "140.00         1\n",
      "200.15         1\n",
      "320.00         1\n",
      "3000.00        3\n",
      "10800.00       1\n",
      "12000.00       1\n",
      "27000.00       1\n",
      "Name: total_value, dtype: int64\n",
      "area\n",
      "5.0     1\n",
      "7.0     1\n",
      "10.0    3\n",
      "12.0    1\n",
      "15.0    1\n",
      "16.0    1\n",
      "30.0    5\n",
      "32.0    1\n",
      "35.0    4\n",
      "36.0    3\n",
      "Name: area, dtype: int64\n"
     ]
    }
   ],
   "source": [
    "for i in num_data:\n",
    "    print(data.groupby(i)[i].count().sort_index().head(10))"
   ]
  },
  {
   "cell_type": "markdown",
   "metadata": {},
   "source": [
    "Its obvious that total_value = 0 should removed. i just leep area<10 because we are talking about Tehram and everything is possible in this city :)"
   ]
  },
  {
   "cell_type": "code",
   "execution_count": 12,
   "metadata": {},
   "outputs": [],
   "source": [
    "data['total_value'] = np.where(data['total_value']==0,np.nan,data['total_value'])"
   ]
  },
  {
   "cell_type": "markdown",
   "metadata": {},
   "source": [
    "Now lets go for categorical data..."
   ]
  },
  {
   "cell_type": "markdown",
   "metadata": {},
   "source": [
    "for each categorical data, we have a look on its unique values to avoid incorrection or duplication, we have a look on frequensies and number of unique values"
   ]
  },
  {
   "cell_type": "code",
   "execution_count": 13,
   "metadata": {},
   "outputs": [
    {
     "name": "stdout",
     "output_type": "stream",
     "text": [
      "YEAR :\n",
      "[1363, 1371, 1372, 1373, 1374, 1375, 1376, 1377, 1378, 1379, 1380, 1381, 1382, 1383, 1384, 1385, 1386, 1387, 1388, 1389, 1390, 1391, 1392, 1393, 1394, 1395, 1396, 1397, 1398, 1399] \n",
      "\n",
      "year\n",
      "1373      12\n",
      "1374      13\n",
      "1376      15\n",
      "1372      19\n",
      "1377      28\n",
      "1378      36\n",
      "1371      52\n",
      "1379      53\n",
      "1381      87\n",
      "1363      99\n",
      "1375     102\n",
      "1382     140\n",
      "1383     155\n",
      "1384     263\n",
      "1391     331\n",
      "1386     388\n",
      "1387     389\n",
      "1389     406\n",
      "1380     420\n",
      "1393     436\n",
      "1392     465\n",
      "1394     512\n",
      "1388     566\n",
      "1396     784\n",
      "1398     858\n",
      "1397     860\n",
      "1385     894\n",
      "1390     932\n",
      "1395     989\n",
      "1399    2079\n",
      "Name: year, dtype: int64 \n",
      "\n",
      "Num of unique values: 30 \n",
      "\n",
      "NEIGHBORHOOD :\n",
      "[' آبشار ', ' آبشار تهران ', ' آجودانیه ', ' آذربایجان ', ' آذری ', ' آرژانتین ', ' آسمان ', ' آشتیانی ', ' آهنگ ', ' ائمه اطهار ', ' اباذر ', ' ابوذر (منطقه ۱۵) ', ' اتابک ', ' اختیاریه ', ' اراج ', ' ارامنه ', ' ارم ', ' ازگل ', ' استاد معین ', ' استخر ', ' اسکندری ', ' افسریه ', ' اقدسیه ', ' المهدی ', ' الهیه ', ' امام حسین(ع) ', ' امام سجاد(ع) ', ' امامت ', ' امامزاده حسن(ع) ', ' امامزاده قاسم ', ' امانیه ', ' امیر بهادر ', ' امیرآباد ', ' امیریه ', ' امین حضور ', ' اندیشه ', ' اوقاف ', ' اوین ', ' اکباتان ', ' ایران ', ' ایرانشهر ', ' باغ خزانه ', ' باغ فردوس ', ' باغ فیض ', ' بریانک ', ' بلوار کشاورز ', ' بهار ', ' بهاران ', ' بهارستان ', ' بهجت\\u200cآباد ', ' بومهن ', ' تاکسیرانی ', ' تجریش ', ' تسلیحات ', ' تهرانپارس شرقی ', ' تهرانپارس غربی ', ' تهران\\u200cسر ', ' تهران\\u200cنو ', ' تهران\\u200cویلا ', ' توانیر ', ' توحید ', ' تولید دارو ', ' جردن ', ' جلفا ', ' جماران ', ' جمال\\u200cزاده ', ' جمهوری ', ' جنت\\u200cآباد جنوبی ', ' جنت\\u200cآباد شمالی ', ' جنت\\u200cآباد مرکزی ', ' جهاد ', ' جوادیه ', ' جوادیه تهرانپارس ', ' جوانمرد قصاب ', ' جی ', ' جیحون ', ' حافظیه ', ' حسین\\u200cآباد ', ' حشمتیه ', ' حصار بوعلی ', ' حصارک ', ' حمزه\\u200cآباد ', ' حکمت ', ' حکیمیه ', ' خانی\\u200cآباد ', ' خانی\\u200cآباد نو ', ' خاوران ', ' خاک سفید ', ' خلیج فارس ', ' خواجه نصیر طوسی ', ' خواجه نظام الملک ', ' دارآباد ', ' دانشگاه تهران ', ' دانشگاه شریف ', ' دانشگاه علم و صنعت ', ' دبستان ', ' درب دوم ', ' دربند ', ' دردشت ', ' دروازه شمیران ', ' دروس ', ' درکه ', ' دریا ', ' دریان\\u200cنو ', ' دریاچه شهدای خلیج فارس ', ' دزاشیب ', ' دلگشا ', ' دهقان ', ' دهکده المپیک ', ' ده\\u200cونک ', ' دولاب ', ' دولتخواه ', ' دولت\\u200cآباد ', ' دکتر هوشیار ', ' دیلمان ', ' رباط کریم ', ' رودهن ', ' زرکش ', ' زرگنده ', ' زعفرانیه ', ' زمزم ', ' زنجان ', ' زهتابی ', ' زیبادشت ', ' سازمان آب ', ' سازمان برنامه ', ' سبلان ', ' ستارخان ', ' سرآسیاب دولاب ', ' سرآسیاب مهرآباد ', ' سرتخت ', ' سرو آزاد ', ' سعادت\\u200cآباد ', ' سعیدآباد ', ' سلامت ', ' سلسبیل ', ' سلیمانی ', ' سنایی ', ' سنگلج ', ' سهروردی ', ' سوهانک ', ' سپهر ', ' سیدخندان ', ' سیروس ', ' سیزده آبان ', ' شادآباد ', ' شادمهر ', ' شارق شرقی ', ' شاهد ', ' شاهین ', ' شبیری ', ' شریف ', ' شریف\\u200cآباد ', ' شمس\\u200cآباد ', ' شمشیری ', ' شمیران\\u200cنو ', ' شهر ری - استخر ', ' شهر ری - اقدسیه ', ' شهر ری - تقی\\u200cآباد ', ' شهر ری - شهرک شهید مفتح ', ' شهر ری - علائین ', ' شهر ری - هاشم\\u200cآباد ', ' شهر زیبا ', ' شهر قدس ', ' شهرآرا ', ' شهران جنوبی ', ' شهران شمالی ', ' شهرک آزادی ', ' شهرک ابوذر ', ' شهرک استقلال ', ' شهرک امید ', ' شهرک تختی ', ' شهرک دریا ', ' شهرک راه\\u200cآهن ', ' شهرک شریعتی ', ' شهرک شریفی ', ' شهرک شهید باقری ', ' شهرک صدرا ', ' شهرک غرب ', ' شهرک فردوس ', ' شهرک محلاتی ', ' شهرک مسلمین ', ' شهرک نفت (منطقه ۱) ', ' شهرک نفت (منطقه ۵) ', ' شهرک والفجر (منطقه ۶) ', ' شهرک ولیعصر ', ' شهرک پاسداران ', ' شهرک پرواز ', ' شهرک ژاندارمری ', ' شهرک کوهسار ', ' شهرک کیانشهر ', ' شهرک گلها ', ' شهریار ', ' شهید اسدی ', ' شهید بروجردی ', ' شهید دستغیب ', ' شهید رجایی ', ' شوش ', ' شکوفه ', ' شیان ', ' شیخ هادی ', ' شیرازی ', ' شیوا ', ' صاحب الزمان ', ' صادقیه ', ' صد دستگاه ', ' صفا ', ' صفائیه (چشمه علی) ', ' طرشت ', ' طوس ', ' ظفر ', ' ظهیرآباد ', ' عارف ', ' عباس\\u200cآباد ', ' عبدل\\u200cآباد ', ' علی\\u200cآباد ', ' فاطمی ', ' فدک ', ' فرحزاد ', ' فرمانیه ', ' فشم ', ' فلاح ', ' فیروزآبادی ', ' فیروزکوه ', ' قاسم\\u200cآباد ', ' قبا ', ' قرچک ', ' قلمستان ', ' قلهک ', ' قنات\\u200cکوثر ', ' قیام ', ' قیام\\u200cدشت ', ' قیطریه ', ' لشکر ', ' لواسان ', ' لویزان ', ' مبارک\\u200cآباد بهشتی ', ' مجیدآباد ', ' مجیدیه ', ' محمودیه ', ' مخصوص ', ' مدائن ', ' مرزداران ', ' مسعودیه ', ' مشیریه ', ' مقدم ', ' منیریه ', ' مهرآباد جنوبی ', ' مولوی ', ' میدان انقلاب ', ' میدان حر ', ' میدان ولیعصر ', ' میرداماد ', ' مینا ', ' مینابی ', ' نارمک ', ' نارمک جنوبی ', ' نازی\\u200cآباد ', ' نبی اکرم(ص) ', ' نجات اللهی ', ' نصرت ', ' نظام\\u200cآباد ', ' نعمت\\u200cآباد ', ' نواب ', ' نیاوران ', ' نیرو هوایی ', ' نیلوفر ', ' هاشمی ', ' هاشم\\u200cآباد ', ' هروی ', ' هزارسنگ ', ' هفت حوض ', ' هفت چنار ', ' هوانیروز ', ' وحیدیه ', ' ورامین ', ' وردآورد ', ' وصفنارد ', ' ولنجک ', ' ونک ', ' پاتریس لومومبا ', ' پاسداران ', ' پاکدشت ', ' پردیس ', ' پرستار ', ' پرند ', ' پلیس ', ' پونک ', ' پیروزی ', ' چهارصد دستگاه ', ' چیتگر ', ' چیذر ', ' کاروان ', ' کاشانک ', ' کاظم\\u200cآباد ', ' کامرانیه ', ' کرمان ', ' کریم\\u200cآباد ', ' کن ', ' کوثر ', ' کوهک ', ' کوی بیمه ', ' کوی فراز ', ' کوی فردوس ', ' کوی مهران ', ' کوی نوبنیاد ', ' گاندی ', ' گرگان ', ' گلاب دره ', ' گمرک ', ' گیشا (کوی نصر) ', ' یاخچی\\u200cآباد ', ' یافت\\u200cآباد ', ' یوسف\\u200cآباد '] \n",
      "\n",
      "neighborhood\n",
      " شهرک مسلمین            1\n",
      " شهرک گلها              1\n",
      " سرتخت                  1\n",
      " مبارک‌آباد بهشتی       1\n",
      " حصار بوعلی             1\n",
      "                     ... \n",
      " الهیه                416\n",
      " فرمانیه              442\n",
      " پونک                 515\n",
      " نیاوران              562\n",
      " سعادت‌آباد           976\n",
      "Name: neighborhood, Length: 314, dtype: int64 \n",
      "\n",
      "Num of unique values: 314 \n",
      "\n",
      "ELAVATOR :\n",
      "[0, 1] \n",
      "\n",
      "elavator\n",
      "0    2398\n",
      "1    9985\n",
      "Name: elavator, dtype: int64 \n",
      "\n",
      "Num of unique values: 2 \n",
      "\n",
      "PARKING :\n",
      "[0, 1] \n",
      "\n",
      "parking\n",
      "0     1425\n",
      "1    10958\n",
      "Name: parking, dtype: int64 \n",
      "\n",
      "Num of unique values: 2 \n",
      "\n",
      "WAREHOUSE :\n",
      "[0, 1] \n",
      "\n",
      "warehouse\n",
      "0        2\n",
      "1    12381\n",
      "Name: warehouse, dtype: int64 \n",
      "\n",
      "Num of unique values: 2 \n",
      "\n"
     ]
    }
   ],
   "source": [
    "cat_data = [\"year\",'neighborhood',\"elavator\",\"parking\",\"warehouse\"]\n",
    "for i in cat_data:\n",
    "    print(i.upper(),':')\n",
    "    print(sorted(data[i].unique()),\"\\n\")\n",
    "    print(data.groupby(i)[i].count().sort_values(),'\\n')\n",
    "    print('Num of unique values:',len(data[i].unique()),'\\n')"
   ]
  },
  {
   "cell_type": "markdown",
   "metadata": {},
   "source": [
    "looking at categorical variables, we notice:\n",
    "\n",
    "* We dont have any problem with year, elevator and parking.\n",
    "* In neighborhood variable, we have some values with much low frequency and beacuse we want to perform One_Hot on this variable, we should reduce unique values as much as we can. so we should aggregate all these low frequences in one value lile 'other'\n",
    "* in Warehouse variable, we just have 2 warehouse = 0, which does not effect targer variable and this variable is sparse. so we can omit that to save processing capacity."
   ]
  },
  {
   "cell_type": "markdown",
   "metadata": {},
   "source": [
    "Lets go to the neignorhood and see the frequncies..."
   ]
  },
  {
   "cell_type": "code",
   "execution_count": 14,
   "metadata": {},
   "outputs": [],
   "source": [
    "a = pd.DataFrame(data.groupby(\"neighborhood\")['neighborhood'].count().sort_values())\n",
    "a.rename(columns = {'neighborhood':'Frequency'},inplace = True)"
   ]
  },
  {
   "cell_type": "code",
   "execution_count": 15,
   "metadata": {},
   "outputs": [
    {
     "data": {
      "text/plain": [
       "Frequency\n",
       "1     44\n",
       "2     27\n",
       "3     27\n",
       "4     19\n",
       "5      9\n",
       "6     14\n",
       "7     15\n",
       "8      8\n",
       "9      9\n",
       "10     8\n",
       "Name: Frequency, dtype: int64"
      ]
     },
     "execution_count": 15,
     "metadata": {},
     "output_type": "execute_result"
    }
   ],
   "source": [
    "a.groupby('Frequency')['Frequency'].count().head(10)"
   ]
  },
  {
   "cell_type": "markdown",
   "metadata": {},
   "source": [
    "So upthere we can see that we have 44 neighborhood with just 1 frequency, 27 with 2 and 3 frequency, etc. I guess its suitable if we aggregate all values with frequency <=5 as the name 'سایر'"
   ]
  },
  {
   "cell_type": "code",
   "execution_count": 16,
   "metadata": {},
   "outputs": [],
   "source": [
    "data['neighborhood'] = np.where(data['neighborhood'].isin(list(a[a<6].dropna().index)),\"سایر\",data['neighborhood'])"
   ]
  },
  {
   "cell_type": "markdown",
   "metadata": {},
   "source": [
    "and then we check if it has done truely:"
   ]
  },
  {
   "cell_type": "code",
   "execution_count": 17,
   "metadata": {},
   "outputs": [
    {
     "data": {
      "text/plain": [
       "189"
      ]
     },
     "execution_count": 17,
     "metadata": {},
     "output_type": "execute_result"
    }
   ],
   "source": [
    "len(data['neighborhood'].unique())"
   ]
  },
  {
   "cell_type": "markdown",
   "metadata": {},
   "source": [
    "Now we converted low frequent values to one value.., Lets go for the next step"
   ]
  },
  {
   "cell_type": "markdown",
   "metadata": {},
   "source": [
    "So after examinning all variables individually, we try to examin them together and find their correlations"
   ]
  },
  {
   "cell_type": "code",
   "execution_count": 17,
   "metadata": {},
   "outputs": [
    {
     "data": {
      "image/png": "[encoded data removed]",
      "text/plain": [
       "<Figure size 1296x504 with 2 Axes>"
      ]
     },
     "metadata": {},
     "output_type": "display_data"
    }
   ],
   "source": [
    "cor = data[['total_value','area','year','elavator','parking','warehouse']].corr()\n",
    "plt.figure(figsize=(18,7))\n",
    "heatmap = sns.heatmap(cor,annot = True)\n",
    "heatmap.set(title = 'Corr of Features');"
   ]
  },
  {
   "cell_type": "markdown",
   "metadata": {},
   "source": [
    "This heatmap tells us manythings:\n",
    "\n",
    "* Area has the most correlation with target, so we can use it in predicting.\n",
    "* warehouse, as mentioned, doesnt have any correlation with anything and can be omitted.\n",
    "* Elavator, is correlated with parking and year, means in recent year we have much more houses with elavator"
   ]
  },
  {
   "cell_type": "markdown",
   "metadata": {},
   "source": [
    "lets draw scatter plot of year_price and area_price to see the correlation better:"
   ]
  },
  {
   "cell_type": "code",
   "execution_count": 18,
   "metadata": {},
   "outputs": [
    {
     "data": {
      "image/png": "[encoded data removed]",
      "text/plain": [
       "<Figure size 1296x504 with 1 Axes>"
      ]
     },
     "metadata": {},
     "output_type": "display_data"
    }
   ],
   "source": [
    "plt.figure(figsize= (18,7))\n",
    "\n",
    "SA = data[data['neighborhood'].str.contains('سعادت')] # We sholud choose one neighbor and choose the most Frequent\n",
    "\n",
    "sns.scatterplot(x = \"area\", y = \"total_value\", data = SA, s = 50, c = ['red'])\n",
    "plt.xlabel('Area (in Meter)');\n",
    "plt.ylabel('Value (in Tooman)');\n",
    "plt.title('Corr Between Area and Value in SaadatAbad')\n",
    "plt.show()"
   ]
  },
  {
   "cell_type": "markdown",
   "metadata": {},
   "source": [
    "So till now we got an insight from data.. now we go for preprocessing"
   ]
  },
  {
   "cell_type": "markdown",
   "metadata": {},
   "source": [
    "# 4. Preprocessing"
   ]
  },
  {
   "cell_type": "markdown",
   "metadata": {},
   "source": [
    "## 4.1. Handling Incorrect Data"
   ]
  },
  {
   "cell_type": "markdown",
   "metadata": {},
   "source": [
    "We did one step of this, when we omitted total_value = 0"
   ]
  },
  {
   "cell_type": "markdown",
   "metadata": {},
   "source": [
    "But if we have more percise vision, we see there are more incorrect data, like this below:"
   ]
  },
  {
   "cell_type": "code",
   "execution_count": 21,
   "metadata": {},
   "outputs": [
    {
     "data": {
      "text/html": [
       "<div>\n",
       "<style scoped>\n",
       "    .dataframe tbody tr th:only-of-type {\n",
       "        vertical-align: middle;\n",
       "    }\n",
       "\n",
       "    .dataframe tbody tr th {\n",
       "        vertical-align: top;\n",
       "    }\n",
       "\n",
       "    .dataframe thead th {\n",
       "        text-align: right;\n",
       "    }\n",
       "</style>\n",
       "<table border=\"1\" class=\"dataframe\">\n",
       "  <thead>\n",
       "    <tr style=\"text-align: right;\">\n",
       "      <th></th>\n",
       "      <th>total_value</th>\n",
       "      <th>neighborhood</th>\n",
       "      <th>area</th>\n",
       "      <th>year</th>\n",
       "      <th>deposit</th>\n",
       "      <th>rent</th>\n",
       "      <th>elavator</th>\n",
       "      <th>parking</th>\n",
       "      <th>warehouse</th>\n",
       "    </tr>\n",
       "  </thead>\n",
       "  <tbody>\n",
       "    <tr>\n",
       "      <th>46</th>\n",
       "      <td>30.09</td>\n",
       "      <td>شاهین</td>\n",
       "      <td>60.0</td>\n",
       "      <td>1380</td>\n",
       "      <td>30.0</td>\n",
       "      <td>3.0</td>\n",
       "      <td>0</td>\n",
       "      <td>0</td>\n",
       "      <td>1</td>\n",
       "    </tr>\n",
       "    <tr>\n",
       "      <th>8847</th>\n",
       "      <td>50.24</td>\n",
       "      <td>تهرانپارس شرقی</td>\n",
       "      <td>115.0</td>\n",
       "      <td>1397</td>\n",
       "      <td>50.0</td>\n",
       "      <td>8.0</td>\n",
       "      <td>1</td>\n",
       "      <td>1</td>\n",
       "      <td>1</td>\n",
       "    </tr>\n",
       "    <tr>\n",
       "      <th>3241</th>\n",
       "      <td>140.00</td>\n",
       "      <td>شهریار</td>\n",
       "      <td>90.0</td>\n",
       "      <td>1399</td>\n",
       "      <td>140.0</td>\n",
       "      <td>0.0</td>\n",
       "      <td>1</td>\n",
       "      <td>1</td>\n",
       "      <td>1</td>\n",
       "    </tr>\n",
       "    <tr>\n",
       "      <th>5723</th>\n",
       "      <td>200.15</td>\n",
       "      <td>سوهانک</td>\n",
       "      <td>87.0</td>\n",
       "      <td>1380</td>\n",
       "      <td>200.0</td>\n",
       "      <td>5.0</td>\n",
       "      <td>0</td>\n",
       "      <td>1</td>\n",
       "      <td>1</td>\n",
       "    </tr>\n",
       "    <tr>\n",
       "      <th>5290</th>\n",
       "      <td>320.00</td>\n",
       "      <td>بریانک</td>\n",
       "      <td>105.0</td>\n",
       "      <td>1395</td>\n",
       "      <td>320.0</td>\n",
       "      <td>0.0</td>\n",
       "      <td>1</td>\n",
       "      <td>1</td>\n",
       "      <td>1</td>\n",
       "    </tr>\n",
       "    <tr>\n",
       "      <th>955</th>\n",
       "      <td>3000.00</td>\n",
       "      <td>فاطمی</td>\n",
       "      <td>90.0</td>\n",
       "      <td>1399</td>\n",
       "      <td>0.0</td>\n",
       "      <td>100000.0</td>\n",
       "      <td>1</td>\n",
       "      <td>1</td>\n",
       "      <td>1</td>\n",
       "    </tr>\n",
       "    <tr>\n",
       "      <th>9900</th>\n",
       "      <td>3000.00</td>\n",
       "      <td>سعادت‌آباد</td>\n",
       "      <td>95.0</td>\n",
       "      <td>1396</td>\n",
       "      <td>0.0</td>\n",
       "      <td>100000.0</td>\n",
       "      <td>1</td>\n",
       "      <td>1</td>\n",
       "      <td>1</td>\n",
       "    </tr>\n",
       "    <tr>\n",
       "      <th>3705</th>\n",
       "      <td>3000.00</td>\n",
       "      <td>ازگل</td>\n",
       "      <td>145.0</td>\n",
       "      <td>1399</td>\n",
       "      <td>0.0</td>\n",
       "      <td>100000.0</td>\n",
       "      <td>1</td>\n",
       "      <td>1</td>\n",
       "      <td>1</td>\n",
       "    </tr>\n",
       "    <tr>\n",
       "      <th>5261</th>\n",
       "      <td>10800.00</td>\n",
       "      <td>شهران شمالی</td>\n",
       "      <td>35.0</td>\n",
       "      <td>1399</td>\n",
       "      <td>0.0</td>\n",
       "      <td>360000.0</td>\n",
       "      <td>1</td>\n",
       "      <td>1</td>\n",
       "      <td>1</td>\n",
       "    </tr>\n",
       "    <tr>\n",
       "      <th>5253</th>\n",
       "      <td>12000.00</td>\n",
       "      <td>مشیریه</td>\n",
       "      <td>10.0</td>\n",
       "      <td>1397</td>\n",
       "      <td>0.0</td>\n",
       "      <td>400000.0</td>\n",
       "      <td>1</td>\n",
       "      <td>1</td>\n",
       "      <td>1</td>\n",
       "    </tr>\n",
       "  </tbody>\n",
       "</table>\n",
       "</div>"
      ],
      "text/plain": [
       "      total_value      neighborhood   area  year  deposit      rent  elavator  \\\n",
       "46          30.09            شاهین    60.0  1380     30.0       3.0         0   \n",
       "8847        50.24   تهرانپارس شرقی   115.0  1397     50.0       8.0         1   \n",
       "3241       140.00           شهریار    90.0  1399    140.0       0.0         1   \n",
       "5723       200.15           سوهانک    87.0  1380    200.0       5.0         0   \n",
       "5290       320.00           بریانک   105.0  1395    320.0       0.0         1   \n",
       "955       3000.00            فاطمی    90.0  1399      0.0  100000.0         1   \n",
       "9900      3000.00       سعادت‌آباد    95.0  1396      0.0  100000.0         1   \n",
       "3705      3000.00             ازگل   145.0  1399      0.0  100000.0         1   \n",
       "5261     10800.00      شهران شمالی    35.0  1399      0.0  360000.0         1   \n",
       "5253     12000.00           مشیریه    10.0  1397      0.0  400000.0         1   \n",
       "\n",
       "      parking  warehouse  \n",
       "46          0          1  \n",
       "8847        1          1  \n",
       "3241        1          1  \n",
       "5723        1          1  \n",
       "5290        1          1  \n",
       "955         1          1  \n",
       "9900        1          1  \n",
       "3705        1          1  \n",
       "5261        1          1  \n",
       "5253        1          1  "
      ]
     },
     "execution_count": 21,
     "metadata": {},
     "output_type": "execute_result"
    }
   ],
   "source": [
    "data.sort_values(by = 'total_value').head(10)"
   ]
  },
  {
   "cell_type": "markdown",
   "metadata": {},
   "source": [
    "As we see above, we have values in total_value column that have just few digits, so these are absolutaly wrong and should be removed"
   ]
  },
  {
   "cell_type": "markdown",
   "metadata": {},
   "source": [
    "<b> Important: </b> To handle this problem, we fisrt build a column including number of digits of total_value, and then examin the number of digits grouped by the year to omit the effect of inflation and examin each year by itself. then we remove each row that total value column has significantly fewer num of digits in comparison with other total_values in the specific year"
   ]
  },
  {
   "cell_type": "code",
   "execution_count": 22,
   "metadata": {},
   "outputs": [],
   "source": [
    "#Defining function to compute num of digits\n",
    "def numdigits(num):\n",
    "    i = 0\n",
    "    k = num\n",
    "    while k>0:\n",
    "        k = num//10\n",
    "        num = k\n",
    "        i = i+1\n",
    "    return i"
   ]
  },
  {
   "cell_type": "code",
   "execution_count": 23,
   "metadata": {},
   "outputs": [],
   "source": [
    "#Creat a column with num of digits of total_value\n",
    "data['value_digits'] = data['total_value'].apply(lambda x: numdigits(x))"
   ]
  },
  {
   "cell_type": "code",
   "execution_count": 24,
   "metadata": {},
   "outputs": [
    {
     "data": {
      "text/html": [
       "<div>\n",
       "<style scoped>\n",
       "    .dataframe tbody tr th:only-of-type {\n",
       "        vertical-align: middle;\n",
       "    }\n",
       "\n",
       "    .dataframe tbody tr th {\n",
       "        vertical-align: top;\n",
       "    }\n",
       "\n",
       "    .dataframe thead th {\n",
       "        text-align: right;\n",
       "    }\n",
       "</style>\n",
       "<table border=\"1\" class=\"dataframe\">\n",
       "  <thead>\n",
       "    <tr style=\"text-align: right;\">\n",
       "      <th></th>\n",
       "      <th>total_value</th>\n",
       "      <th>neighborhood</th>\n",
       "      <th>area</th>\n",
       "      <th>year</th>\n",
       "      <th>deposit</th>\n",
       "      <th>rent</th>\n",
       "      <th>elavator</th>\n",
       "      <th>parking</th>\n",
       "      <th>warehouse</th>\n",
       "      <th>value_digits</th>\n",
       "    </tr>\n",
       "  </thead>\n",
       "  <tbody>\n",
       "    <tr>\n",
       "      <th>0</th>\n",
       "      <td>NaN</td>\n",
       "      <td>ولنجک</td>\n",
       "      <td>NaN</td>\n",
       "      <td>1399</td>\n",
       "      <td>2.000000e+09</td>\n",
       "      <td>30000000.0</td>\n",
       "      <td>1</td>\n",
       "      <td>1</td>\n",
       "      <td>1</td>\n",
       "      <td>0</td>\n",
       "    </tr>\n",
       "    <tr>\n",
       "      <th>1</th>\n",
       "      <td>200120000.0</td>\n",
       "      <td>کوی فردوس</td>\n",
       "      <td>70.0</td>\n",
       "      <td>1387</td>\n",
       "      <td>2.000000e+08</td>\n",
       "      <td>4000000.0</td>\n",
       "      <td>0</td>\n",
       "      <td>1</td>\n",
       "      <td>1</td>\n",
       "      <td>9</td>\n",
       "    </tr>\n",
       "    <tr>\n",
       "      <th>2</th>\n",
       "      <td>350255000.0</td>\n",
       "      <td>پونک</td>\n",
       "      <td>120.0</td>\n",
       "      <td>1395</td>\n",
       "      <td>3.500000e+08</td>\n",
       "      <td>8500000.0</td>\n",
       "      <td>1</td>\n",
       "      <td>1</td>\n",
       "      <td>1</td>\n",
       "      <td>9</td>\n",
       "    </tr>\n",
       "    <tr>\n",
       "      <th>3</th>\n",
       "      <td>200300000.0</td>\n",
       "      <td>هروی</td>\n",
       "      <td>110.0</td>\n",
       "      <td>1395</td>\n",
       "      <td>2.000000e+08</td>\n",
       "      <td>10000000.0</td>\n",
       "      <td>1</td>\n",
       "      <td>1</td>\n",
       "      <td>1</td>\n",
       "      <td>9</td>\n",
       "    </tr>\n",
       "    <tr>\n",
       "      <th>4</th>\n",
       "      <td>200180000.0</td>\n",
       "      <td>پونک</td>\n",
       "      <td>80.0</td>\n",
       "      <td>1387</td>\n",
       "      <td>2.000000e+08</td>\n",
       "      <td>6000000.0</td>\n",
       "      <td>1</td>\n",
       "      <td>1</td>\n",
       "      <td>1</td>\n",
       "      <td>9</td>\n",
       "    </tr>\n",
       "    <tr>\n",
       "      <th>...</th>\n",
       "      <td>...</td>\n",
       "      <td>...</td>\n",
       "      <td>...</td>\n",
       "      <td>...</td>\n",
       "      <td>...</td>\n",
       "      <td>...</td>\n",
       "      <td>...</td>\n",
       "      <td>...</td>\n",
       "      <td>...</td>\n",
       "      <td>...</td>\n",
       "    </tr>\n",
       "    <tr>\n",
       "      <th>12378</th>\n",
       "      <td>700000000.0</td>\n",
       "      <td>مرزداران</td>\n",
       "      <td>170.0</td>\n",
       "      <td>1375</td>\n",
       "      <td>7.000000e+08</td>\n",
       "      <td>0.0</td>\n",
       "      <td>0</td>\n",
       "      <td>1</td>\n",
       "      <td>1</td>\n",
       "      <td>9</td>\n",
       "    </tr>\n",
       "    <tr>\n",
       "      <th>12379</th>\n",
       "      <td>100081000.0</td>\n",
       "      <td>امیریه</td>\n",
       "      <td>91.0</td>\n",
       "      <td>1380</td>\n",
       "      <td>1.000000e+08</td>\n",
       "      <td>2700000.0</td>\n",
       "      <td>0</td>\n",
       "      <td>1</td>\n",
       "      <td>1</td>\n",
       "      <td>9</td>\n",
       "    </tr>\n",
       "    <tr>\n",
       "      <th>12380</th>\n",
       "      <td>200180000.0</td>\n",
       "      <td>دارآباد</td>\n",
       "      <td>80.0</td>\n",
       "      <td>1395</td>\n",
       "      <td>2.000000e+08</td>\n",
       "      <td>6000000.0</td>\n",
       "      <td>1</td>\n",
       "      <td>1</td>\n",
       "      <td>1</td>\n",
       "      <td>9</td>\n",
       "    </tr>\n",
       "    <tr>\n",
       "      <th>12381</th>\n",
       "      <td>800000000.0</td>\n",
       "      <td>پاسداران</td>\n",
       "      <td>100.0</td>\n",
       "      <td>1399</td>\n",
       "      <td>8.000000e+08</td>\n",
       "      <td>0.0</td>\n",
       "      <td>1</td>\n",
       "      <td>1</td>\n",
       "      <td>1</td>\n",
       "      <td>9</td>\n",
       "    </tr>\n",
       "    <tr>\n",
       "      <th>12382</th>\n",
       "      <td>100180000.0</td>\n",
       "      <td>نارمک</td>\n",
       "      <td>90.0</td>\n",
       "      <td>1398</td>\n",
       "      <td>1.000000e+08</td>\n",
       "      <td>6000000.0</td>\n",
       "      <td>1</td>\n",
       "      <td>1</td>\n",
       "      <td>1</td>\n",
       "      <td>9</td>\n",
       "    </tr>\n",
       "  </tbody>\n",
       "</table>\n",
       "<p>12383 rows × 10 columns</p>\n",
       "</div>"
      ],
      "text/plain": [
       "       total_value neighborhood   area  year       deposit        rent  \\\n",
       "0              NaN       ولنجک     NaN  1399  2.000000e+09  30000000.0   \n",
       "1      200120000.0   کوی فردوس    70.0  1387  2.000000e+08   4000000.0   \n",
       "2      350255000.0        پونک   120.0  1395  3.500000e+08   8500000.0   \n",
       "3      200300000.0        هروی   110.0  1395  2.000000e+08  10000000.0   \n",
       "4      200180000.0        پونک    80.0  1387  2.000000e+08   6000000.0   \n",
       "...            ...          ...    ...   ...           ...         ...   \n",
       "12378  700000000.0    مرزداران   170.0  1375  7.000000e+08         0.0   \n",
       "12379  100081000.0      امیریه    91.0  1380  1.000000e+08   2700000.0   \n",
       "12380  200180000.0     دارآباد    80.0  1395  2.000000e+08   6000000.0   \n",
       "12381  800000000.0    پاسداران   100.0  1399  8.000000e+08         0.0   \n",
       "12382  100180000.0       نارمک    90.0  1398  1.000000e+08   6000000.0   \n",
       "\n",
       "       elavator  parking  warehouse  value_digits  \n",
       "0             1        1          1             0  \n",
       "1             0        1          1             9  \n",
       "2             1        1          1             9  \n",
       "3             1        1          1             9  \n",
       "4             1        1          1             9  \n",
       "...         ...      ...        ...           ...  \n",
       "12378         0        1          1             9  \n",
       "12379         0        1          1             9  \n",
       "12380         1        1          1             9  \n",
       "12381         1        1          1             9  \n",
       "12382         1        1          1             9  \n",
       "\n",
       "[12383 rows x 10 columns]"
      ]
     },
     "execution_count": 24,
     "metadata": {},
     "output_type": "execute_result"
    }
   ],
   "source": [
    "# have a look if its done right\n",
    "data"
   ]
  },
  {
   "cell_type": "markdown",
   "metadata": {},
   "source": [
    "We first should drop NaN values before computing mean num of digit for each year, becuase NaN has 0 digit and this effect the output"
   ]
  },
  {
   "cell_type": "code",
   "execution_count": 39,
   "metadata": {},
   "outputs": [],
   "source": [
    "data_f = data.dropna(axis = 0)"
   ]
  },
  {
   "cell_type": "markdown",
   "metadata": {},
   "source": [
    "Lets have a look in the mean value_digits for each year"
   ]
  },
  {
   "cell_type": "code",
   "execution_count": 40,
   "metadata": {},
   "outputs": [
    {
     "data": {
      "text/plain": [
       "year\n",
       "1363    8.845238\n",
       "1371    9.000000\n",
       "1372    8.941176\n",
       "1373    9.000000\n",
       "1374    8.636364\n",
       "1375    8.882353\n",
       "1376    8.846154\n",
       "1377    8.909091\n",
       "1378    8.911765\n",
       "1379    8.795918\n",
       "1380    8.826446\n",
       "1381    8.794872\n",
       "1382    8.777778\n",
       "1383    8.848921\n",
       "1384    8.857724\n",
       "1385    8.871762\n",
       "1386    8.903904\n",
       "1387    8.954819\n",
       "1388    8.887097\n",
       "1389    8.831361\n",
       "1390    8.937082\n",
       "1391    8.928058\n",
       "1392    8.906166\n",
       "1393    8.913165\n",
       "1394    8.946731\n",
       "1395    8.903846\n",
       "1396    8.945486\n",
       "1397    8.974315\n",
       "1398    8.998182\n",
       "1399    9.025111\n",
       "Name: value_digits, dtype: float64"
      ]
     },
     "execution_count": 40,
     "metadata": {},
     "output_type": "execute_result"
    }
   ],
   "source": [
    "data_f.groupby('year')['value_digits'].mean()"
   ]
  },
  {
   "cell_type": "markdown",
   "metadata": {},
   "source": [
    "as you can see above, most of the year has mean of value_digits bigger that 8 and just 2 of them are 9 or bigger, also mean of value_digits>9 are not much bigger than 9 and are really close to 8. so we can set the thersh = 8 and remove all rows with value_digits<8 "
   ]
  },
  {
   "cell_type": "code",
   "execution_count": 41,
   "metadata": {
    "scrolled": true
   },
   "outputs": [
    {
     "name": "stderr",
     "output_type": "stream",
     "text": [
      "C:\\Users\\MJavad\\AppData\\Local\\Temp\\ipykernel_8472\\1148322926.py:1: SettingWithCopyWarning: \n",
      "A value is trying to be set on a copy of a slice from a DataFrame.\n",
      "Try using .loc[row_indexer,col_indexer] = value instead\n",
      "\n",
      "See the caveats in the documentation: https://pandas.pydata.org/pandas-docs/stable/user_guide/indexing.html#returning-a-view-versus-a-copy\n",
      "  data_f['value_digits'] = np.where(data_f['value_digits']<8,np.nan,data_f['value_digits'])\n"
     ]
    }
   ],
   "source": [
    "data_f['value_digits'] = np.where(data_f['value_digits']<8,np.nan,data_f['value_digits'])"
   ]
  },
  {
   "cell_type": "markdown",
   "metadata": {},
   "source": [
    "## 4.2. Imputing Missing Values"
   ]
  },
  {
   "cell_type": "markdown",
   "metadata": {},
   "source": [
    "We made some NaN values in the previous section and they should be removed"
   ]
  },
  {
   "cell_type": "code",
   "execution_count": 42,
   "metadata": {},
   "outputs": [
    {
     "name": "stdout",
     "output_type": "stream",
     "text": [
      "<class 'pandas.core.frame.DataFrame'>\n",
      "Int64Index: 9619 entries, 1 to 12382\n",
      "Data columns (total 10 columns):\n",
      " #   Column        Non-Null Count  Dtype  \n",
      "---  ------        --------------  -----  \n",
      " 0   total_value   9619 non-null   float64\n",
      " 1   neighborhood  9619 non-null   object \n",
      " 2   area          9619 non-null   float64\n",
      " 3   year          9619 non-null   int64  \n",
      " 4   deposit       9619 non-null   float64\n",
      " 5   rent          9619 non-null   float64\n",
      " 6   elavator      9619 non-null   int64  \n",
      " 7   parking       9619 non-null   int64  \n",
      " 8   warehouse     9619 non-null   int64  \n",
      " 9   value_digits  9579 non-null   float64\n",
      "dtypes: float64(5), int64(4), object(1)\n",
      "memory usage: 826.6+ KB\n"
     ]
    }
   ],
   "source": [
    "data_f.info() #num of missing values"
   ]
  },
  {
   "cell_type": "code",
   "execution_count": 43,
   "metadata": {},
   "outputs": [],
   "source": [
    "data_f = data_f.dropna(axis = 0)"
   ]
  },
  {
   "cell_type": "code",
   "execution_count": 44,
   "metadata": {},
   "outputs": [
    {
     "name": "stdout",
     "output_type": "stream",
     "text": [
      "<class 'pandas.core.frame.DataFrame'>\n",
      "Int64Index: 9579 entries, 1 to 12382\n",
      "Data columns (total 10 columns):\n",
      " #   Column        Non-Null Count  Dtype  \n",
      "---  ------        --------------  -----  \n",
      " 0   total_value   9579 non-null   float64\n",
      " 1   neighborhood  9579 non-null   object \n",
      " 2   area          9579 non-null   float64\n",
      " 3   year          9579 non-null   int64  \n",
      " 4   deposit       9579 non-null   float64\n",
      " 5   rent          9579 non-null   float64\n",
      " 6   elavator      9579 non-null   int64  \n",
      " 7   parking       9579 non-null   int64  \n",
      " 8   warehouse     9579 non-null   int64  \n",
      " 9   value_digits  9579 non-null   float64\n",
      "dtypes: float64(5), int64(4), object(1)\n",
      "memory usage: 823.2+ KB\n"
     ]
    }
   ],
   "source": [
    "data_f.info() #chack if it is done right!"
   ]
  },
  {
   "cell_type": "markdown",
   "metadata": {},
   "source": [
    "## 4.3. Imputing Outliers"
   ]
  },
  {
   "cell_type": "markdown",
   "metadata": {},
   "source": [
    "It has done already!"
   ]
  },
  {
   "cell_type": "markdown",
   "metadata": {},
   "source": [
    "## 4.4. Rempving Duplicate Values and low variation data"
   ]
  },
  {
   "cell_type": "markdown",
   "metadata": {},
   "source": [
    "Here we remove duplicate and non useful columns, including rent, warehouse and deposite"
   ]
  },
  {
   "cell_type": "code",
   "execution_count": 45,
   "metadata": {},
   "outputs": [],
   "source": [
    "data_f.drop_duplicates(inplace = True)\n",
    "data_f.drop(['warehouse','rent','deposit','value_digits'], axis = 1, inplace = True)"
   ]
  },
  {
   "cell_type": "markdown",
   "metadata": {},
   "source": [
    "## 4.5. Handling Categorical Data "
   ]
  },
  {
   "cell_type": "markdown",
   "metadata": {},
   "source": [
    "Earlier we integrated neighborhood. Here we perform One-Hot on that"
   ]
  },
  {
   "cell_type": "code",
   "execution_count": 46,
   "metadata": {},
   "outputs": [],
   "source": [
    "temp = pd.get_dummies(data_f['neighborhood'])\n",
    "data_f = pd.concat([data_f,temp],axis = 1)\n",
    "data_f.drop('neighborhood',axis = 1,inplace = True)"
   ]
  },
  {
   "cell_type": "code",
   "execution_count": 47,
   "metadata": {},
   "outputs": [
    {
     "data": {
      "text/html": [
       "<div>\n",
       "<style scoped>\n",
       "    .dataframe tbody tr th:only-of-type {\n",
       "        vertical-align: middle;\n",
       "    }\n",
       "\n",
       "    .dataframe tbody tr th {\n",
       "        vertical-align: top;\n",
       "    }\n",
       "\n",
       "    .dataframe thead th {\n",
       "        text-align: right;\n",
       "    }\n",
       "</style>\n",
       "<table border=\"1\" class=\"dataframe\">\n",
       "  <thead>\n",
       "    <tr style=\"text-align: right;\">\n",
       "      <th></th>\n",
       "      <th>total_value</th>\n",
       "      <th>area</th>\n",
       "      <th>year</th>\n",
       "      <th>elavator</th>\n",
       "      <th>parking</th>\n",
       "      <th>آبشار تهران</th>\n",
       "      <th>آجودانیه</th>\n",
       "      <th>آذربایجان</th>\n",
       "      <th>آذری</th>\n",
       "      <th>آرژانتین</th>\n",
       "      <th>...</th>\n",
       "      <th>کوهک</th>\n",
       "      <th>کوی بیمه</th>\n",
       "      <th>کوی فردوس</th>\n",
       "      <th>کوی مهران</th>\n",
       "      <th>گرگان</th>\n",
       "      <th>گمرک</th>\n",
       "      <th>گیشا (کوی نصر)</th>\n",
       "      <th>یافت‌آباد</th>\n",
       "      <th>یوسف‌آباد</th>\n",
       "      <th>سایر</th>\n",
       "    </tr>\n",
       "  </thead>\n",
       "  <tbody>\n",
       "    <tr>\n",
       "      <th>1</th>\n",
       "      <td>200120000.0</td>\n",
       "      <td>70.0</td>\n",
       "      <td>1387</td>\n",
       "      <td>0</td>\n",
       "      <td>1</td>\n",
       "      <td>0</td>\n",
       "      <td>0</td>\n",
       "      <td>0</td>\n",
       "      <td>0</td>\n",
       "      <td>0</td>\n",
       "      <td>...</td>\n",
       "      <td>0</td>\n",
       "      <td>0</td>\n",
       "      <td>1</td>\n",
       "      <td>0</td>\n",
       "      <td>0</td>\n",
       "      <td>0</td>\n",
       "      <td>0</td>\n",
       "      <td>0</td>\n",
       "      <td>0</td>\n",
       "      <td>0</td>\n",
       "    </tr>\n",
       "    <tr>\n",
       "      <th>2</th>\n",
       "      <td>350255000.0</td>\n",
       "      <td>120.0</td>\n",
       "      <td>1395</td>\n",
       "      <td>1</td>\n",
       "      <td>1</td>\n",
       "      <td>0</td>\n",
       "      <td>0</td>\n",
       "      <td>0</td>\n",
       "      <td>0</td>\n",
       "      <td>0</td>\n",
       "      <td>...</td>\n",
       "      <td>0</td>\n",
       "      <td>0</td>\n",
       "      <td>0</td>\n",
       "      <td>0</td>\n",
       "      <td>0</td>\n",
       "      <td>0</td>\n",
       "      <td>0</td>\n",
       "      <td>0</td>\n",
       "      <td>0</td>\n",
       "      <td>0</td>\n",
       "    </tr>\n",
       "    <tr>\n",
       "      <th>3</th>\n",
       "      <td>200300000.0</td>\n",
       "      <td>110.0</td>\n",
       "      <td>1395</td>\n",
       "      <td>1</td>\n",
       "      <td>1</td>\n",
       "      <td>0</td>\n",
       "      <td>0</td>\n",
       "      <td>0</td>\n",
       "      <td>0</td>\n",
       "      <td>0</td>\n",
       "      <td>...</td>\n",
       "      <td>0</td>\n",
       "      <td>0</td>\n",
       "      <td>0</td>\n",
       "      <td>0</td>\n",
       "      <td>0</td>\n",
       "      <td>0</td>\n",
       "      <td>0</td>\n",
       "      <td>0</td>\n",
       "      <td>0</td>\n",
       "      <td>0</td>\n",
       "    </tr>\n",
       "    <tr>\n",
       "      <th>4</th>\n",
       "      <td>200180000.0</td>\n",
       "      <td>80.0</td>\n",
       "      <td>1387</td>\n",
       "      <td>1</td>\n",
       "      <td>1</td>\n",
       "      <td>0</td>\n",
       "      <td>0</td>\n",
       "      <td>0</td>\n",
       "      <td>0</td>\n",
       "      <td>0</td>\n",
       "      <td>...</td>\n",
       "      <td>0</td>\n",
       "      <td>0</td>\n",
       "      <td>0</td>\n",
       "      <td>0</td>\n",
       "      <td>0</td>\n",
       "      <td>0</td>\n",
       "      <td>0</td>\n",
       "      <td>0</td>\n",
       "      <td>0</td>\n",
       "      <td>0</td>\n",
       "    </tr>\n",
       "    <tr>\n",
       "      <th>5</th>\n",
       "      <td>300000000.0</td>\n",
       "      <td>60.0</td>\n",
       "      <td>1395</td>\n",
       "      <td>1</td>\n",
       "      <td>1</td>\n",
       "      <td>0</td>\n",
       "      <td>0</td>\n",
       "      <td>0</td>\n",
       "      <td>0</td>\n",
       "      <td>0</td>\n",
       "      <td>...</td>\n",
       "      <td>0</td>\n",
       "      <td>0</td>\n",
       "      <td>0</td>\n",
       "      <td>0</td>\n",
       "      <td>0</td>\n",
       "      <td>0</td>\n",
       "      <td>0</td>\n",
       "      <td>0</td>\n",
       "      <td>0</td>\n",
       "      <td>0</td>\n",
       "    </tr>\n",
       "    <tr>\n",
       "      <th>...</th>\n",
       "      <td>...</td>\n",
       "      <td>...</td>\n",
       "      <td>...</td>\n",
       "      <td>...</td>\n",
       "      <td>...</td>\n",
       "      <td>...</td>\n",
       "      <td>...</td>\n",
       "      <td>...</td>\n",
       "      <td>...</td>\n",
       "      <td>...</td>\n",
       "      <td>...</td>\n",
       "      <td>...</td>\n",
       "      <td>...</td>\n",
       "      <td>...</td>\n",
       "      <td>...</td>\n",
       "      <td>...</td>\n",
       "      <td>...</td>\n",
       "      <td>...</td>\n",
       "      <td>...</td>\n",
       "      <td>...</td>\n",
       "      <td>...</td>\n",
       "    </tr>\n",
       "    <tr>\n",
       "      <th>12378</th>\n",
       "      <td>700000000.0</td>\n",
       "      <td>170.0</td>\n",
       "      <td>1375</td>\n",
       "      <td>0</td>\n",
       "      <td>1</td>\n",
       "      <td>0</td>\n",
       "      <td>0</td>\n",
       "      <td>0</td>\n",
       "      <td>0</td>\n",
       "      <td>0</td>\n",
       "      <td>...</td>\n",
       "      <td>0</td>\n",
       "      <td>0</td>\n",
       "      <td>0</td>\n",
       "      <td>0</td>\n",
       "      <td>0</td>\n",
       "      <td>0</td>\n",
       "      <td>0</td>\n",
       "      <td>0</td>\n",
       "      <td>0</td>\n",
       "      <td>0</td>\n",
       "    </tr>\n",
       "    <tr>\n",
       "      <th>12379</th>\n",
       "      <td>100081000.0</td>\n",
       "      <td>91.0</td>\n",
       "      <td>1380</td>\n",
       "      <td>0</td>\n",
       "      <td>1</td>\n",
       "      <td>0</td>\n",
       "      <td>0</td>\n",
       "      <td>0</td>\n",
       "      <td>0</td>\n",
       "      <td>0</td>\n",
       "      <td>...</td>\n",
       "      <td>0</td>\n",
       "      <td>0</td>\n",
       "      <td>0</td>\n",
       "      <td>0</td>\n",
       "      <td>0</td>\n",
       "      <td>0</td>\n",
       "      <td>0</td>\n",
       "      <td>0</td>\n",
       "      <td>0</td>\n",
       "      <td>0</td>\n",
       "    </tr>\n",
       "    <tr>\n",
       "      <th>12380</th>\n",
       "      <td>200180000.0</td>\n",
       "      <td>80.0</td>\n",
       "      <td>1395</td>\n",
       "      <td>1</td>\n",
       "      <td>1</td>\n",
       "      <td>0</td>\n",
       "      <td>0</td>\n",
       "      <td>0</td>\n",
       "      <td>0</td>\n",
       "      <td>0</td>\n",
       "      <td>...</td>\n",
       "      <td>0</td>\n",
       "      <td>0</td>\n",
       "      <td>0</td>\n",
       "      <td>0</td>\n",
       "      <td>0</td>\n",
       "      <td>0</td>\n",
       "      <td>0</td>\n",
       "      <td>0</td>\n",
       "      <td>0</td>\n",
       "      <td>0</td>\n",
       "    </tr>\n",
       "    <tr>\n",
       "      <th>12381</th>\n",
       "      <td>800000000.0</td>\n",
       "      <td>100.0</td>\n",
       "      <td>1399</td>\n",
       "      <td>1</td>\n",
       "      <td>1</td>\n",
       "      <td>0</td>\n",
       "      <td>0</td>\n",
       "      <td>0</td>\n",
       "      <td>0</td>\n",
       "      <td>0</td>\n",
       "      <td>...</td>\n",
       "      <td>0</td>\n",
       "      <td>0</td>\n",
       "      <td>0</td>\n",
       "      <td>0</td>\n",
       "      <td>0</td>\n",
       "      <td>0</td>\n",
       "      <td>0</td>\n",
       "      <td>0</td>\n",
       "      <td>0</td>\n",
       "      <td>0</td>\n",
       "    </tr>\n",
       "    <tr>\n",
       "      <th>12382</th>\n",
       "      <td>100180000.0</td>\n",
       "      <td>90.0</td>\n",
       "      <td>1398</td>\n",
       "      <td>1</td>\n",
       "      <td>1</td>\n",
       "      <td>0</td>\n",
       "      <td>0</td>\n",
       "      <td>0</td>\n",
       "      <td>0</td>\n",
       "      <td>0</td>\n",
       "      <td>...</td>\n",
       "      <td>0</td>\n",
       "      <td>0</td>\n",
       "      <td>0</td>\n",
       "      <td>0</td>\n",
       "      <td>0</td>\n",
       "      <td>0</td>\n",
       "      <td>0</td>\n",
       "      <td>0</td>\n",
       "      <td>0</td>\n",
       "      <td>0</td>\n",
       "    </tr>\n",
       "  </tbody>\n",
       "</table>\n",
       "<p>9579 rows × 194 columns</p>\n",
       "</div>"
      ],
      "text/plain": [
       "       total_value   area  year  elavator  parking   آبشار تهران    آجودانیه   \\\n",
       "1      200120000.0   70.0  1387         0        1              0           0   \n",
       "2      350255000.0  120.0  1395         1        1              0           0   \n",
       "3      200300000.0  110.0  1395         1        1              0           0   \n",
       "4      200180000.0   80.0  1387         1        1              0           0   \n",
       "5      300000000.0   60.0  1395         1        1              0           0   \n",
       "...            ...    ...   ...       ...      ...            ...         ...   \n",
       "12378  700000000.0  170.0  1375         0        1              0           0   \n",
       "12379  100081000.0   91.0  1380         0        1              0           0   \n",
       "12380  200180000.0   80.0  1395         1        1              0           0   \n",
       "12381  800000000.0  100.0  1399         1        1              0           0   \n",
       "12382  100180000.0   90.0  1398         1        1              0           0   \n",
       "\n",
       "        آذربایجان    آذری    آرژانتین   ...   کوهک    کوی بیمه    کوی فردوس   \\\n",
       "1                0       0           0  ...       0           0            1   \n",
       "2                0       0           0  ...       0           0            0   \n",
       "3                0       0           0  ...       0           0            0   \n",
       "4                0       0           0  ...       0           0            0   \n",
       "5                0       0           0  ...       0           0            0   \n",
       "...            ...     ...         ...  ...     ...         ...          ...   \n",
       "12378            0       0           0  ...       0           0            0   \n",
       "12379            0       0           0  ...       0           0            0   \n",
       "12380            0       0           0  ...       0           0            0   \n",
       "12381            0       0           0  ...       0           0            0   \n",
       "12382            0       0           0  ...       0           0            0   \n",
       "\n",
       "        کوی مهران    گرگان    گمرک    گیشا (کوی نصر)    یافت‌آباد   \\\n",
       "1                0        0       0                 0            0   \n",
       "2                0        0       0                 0            0   \n",
       "3                0        0       0                 0            0   \n",
       "4                0        0       0                 0            0   \n",
       "5                0        0       0                 0            0   \n",
       "...            ...      ...     ...               ...          ...   \n",
       "12378            0        0       0                 0            0   \n",
       "12379            0        0       0                 0            0   \n",
       "12380            0        0       0                 0            0   \n",
       "12381            0        0       0                 0            0   \n",
       "12382            0        0       0                 0            0   \n",
       "\n",
       "        یوسف‌آباد   سایر  \n",
       "1                0     0  \n",
       "2                0     0  \n",
       "3                0     0  \n",
       "4                0     0  \n",
       "5                0     0  \n",
       "...            ...   ...  \n",
       "12378            0     0  \n",
       "12379            0     0  \n",
       "12380            0     0  \n",
       "12381            0     0  \n",
       "12382            0     0  \n",
       "\n",
       "[9579 rows x 194 columns]"
      ]
     },
     "execution_count": 47,
     "metadata": {},
     "output_type": "execute_result"
    }
   ],
   "source": [
    "data_f"
   ]
  },
  {
   "cell_type": "markdown",
   "metadata": {},
   "source": [
    "## 3.6. Feature Scaling"
   ]
  },
  {
   "cell_type": "markdown",
   "metadata": {},
   "source": [
    "Feature Scaling is important for feature selection, feature extraction and training more general model; and it should be fit in training set and transform to test set. Here we chose <i> Normalization </i> for scaling. So first of all we go for train_test_split"
   ]
  },
  {
   "cell_type": "code",
   "execution_count": 48,
   "metadata": {},
   "outputs": [],
   "source": [
    "X_n = data_f.drop('total_value', axis = 1, inplace  = False)\n",
    "y = data_f['total_value']\n",
    "from sklearn.model_selection import train_test_split\n",
    "X_train,X_test,y_train,y_test = train_test_split(X_n,y,random_state = 42, test_size = 0.2)"
   ]
  },
  {
   "cell_type": "code",
   "execution_count": 49,
   "metadata": {},
   "outputs": [],
   "source": [
    "from sklearn.preprocessing import MinMaxScaler\n",
    "scaler = MinMaxScaler()\n",
    "X_train=pd.DataFrame(scaler.fit_transform(X_train),columns = list(X_train.columns))\n",
    "X_test = pd.DataFrame(scaler.transform(X_test), columns = list(X_test.columns))"
   ]
  },
  {
   "cell_type": "markdown",
   "metadata": {},
   "source": [
    "# 4. Model Selection"
   ]
  },
  {
   "cell_type": "markdown",
   "metadata": {},
   "source": [
    "First we import different types of regressions"
   ]
  },
  {
   "cell_type": "code",
   "execution_count": 79,
   "metadata": {},
   "outputs": [],
   "source": [
    "from sklearn.linear_model import LinearRegression\n",
    "from sklearn.linear_model import Lasso\n",
    "from sklearn.linear_model import Ridge\n",
    "from sklearn.neighbors import KNeighborsRegressor\n",
    "from sklearn.tree import DecisionTreeRegressor\n",
    "from sklearn.ensemble import AdaBoostRegressor\n",
    "from sklearn.ensemble import BaggingRegressor\n",
    "from sklearn.ensemble import ExtraTreesRegressor\n",
    "from sklearn.ensemble import GradientBoostingRegressor\n",
    "from sklearn.ensemble import RandomForestRegressor\n",
    "\n",
    "from sklearn.model_selection import cross_val_score"
   ]
  },
  {
   "cell_type": "markdown",
   "metadata": {},
   "source": [
    "Here we want to make a dataframe which examine each model based on different measures including:(\n",
    "* Root Mean Squered Error,\n",
    "* Mean Squered Error,\n",
    "* Mean Absolute Error,\n",
    "* R Squered"
   ]
  },
  {
   "cell_type": "code",
   "execution_count": 104,
   "metadata": {},
   "outputs": [],
   "source": [
    "RMSE = []\n",
    "MAE = []\n",
    "MSE = []\n",
    "R_Square = []\n",
    "\n",
    "names = [\"ExtraTrees Regressor\", \"Gradient Boosting Regressor\", \"Random Forest Regressor\",  \n",
    "         \"Bagging Regressor\",\"Linear Regression\", \"Ridge Regression\", \n",
    "         \"Lasso Regression\", \"Decision Tree Regressor\", \"Adaboost Regressor\",'KNeighborsRegressor']\n",
    "models = [ExtraTreesRegressor(random_state = 42), GradientBoostingRegressor(random_state = 42), RandomForestRegressor(random_state = 42),  \n",
    "          BaggingRegressor(random_state = 42), LinearRegression(), Ridge(random_state = 42), \n",
    "          Lasso(random_state = 42), DecisionTreeRegressor(random_state = 42), AdaBoostRegressor(random_state = 42),KNeighborsRegressor()]"
   ]
  },
  {
   "cell_type": "code",
   "execution_count": 105,
   "metadata": {},
   "outputs": [],
   "source": [
    "metric_dict = {'neg_mean_absolute_error':MAE,'neg_mean_squared_error':MSE,'neg_root_mean_squared_error':RMSE,'r2':R_Square}\n",
    "metrics = ['neg_mean_absolute_error','neg_mean_squared_error','neg_root_mean_squared_error','r2']\n",
    "for model in models:\n",
    "    for i in metrics:\n",
    "        scores = cross_val_score(model,X_train,y_train ,scoring = i , cv=3, n_jobs= -1)\n",
    "        metric_dict[i].append(abs(np.mean(scores)))\n",
    "\n",
    "evaluation_dataframe = pd.DataFrame({\"Model\": names, \"MAE\": MAE, \"MSE\": MSE, \"RMSE\": RMSE, \"R Squared\": R_Square})"
   ]
  },
  {
   "cell_type": "code",
   "execution_count": 106,
   "metadata": {},
   "outputs": [
    {
     "data": {
      "text/html": [
       "<div>\n",
       "<style scoped>\n",
       "    .dataframe tbody tr th:only-of-type {\n",
       "        vertical-align: middle;\n",
       "    }\n",
       "\n",
       "    .dataframe tbody tr th {\n",
       "        vertical-align: top;\n",
       "    }\n",
       "\n",
       "    .dataframe thead th {\n",
       "        text-align: right;\n",
       "    }\n",
       "</style>\n",
       "<table border=\"1\" class=\"dataframe\">\n",
       "  <thead>\n",
       "    <tr style=\"text-align: right;\">\n",
       "      <th></th>\n",
       "      <th>Model</th>\n",
       "      <th>MAE</th>\n",
       "      <th>MSE</th>\n",
       "      <th>RMSE</th>\n",
       "      <th>R Squared</th>\n",
       "    </tr>\n",
       "  </thead>\n",
       "  <tbody>\n",
       "    <tr>\n",
       "      <th>0</th>\n",
       "      <td>ExtraTrees Regressor</td>\n",
       "      <td>1.562739e+08</td>\n",
       "      <td>5.106638e+16</td>\n",
       "      <td>2.259748e+08</td>\n",
       "      <td>3.301549e-01</td>\n",
       "    </tr>\n",
       "    <tr>\n",
       "      <th>1</th>\n",
       "      <td>Gradient Boosting Regressor</td>\n",
       "      <td>1.619592e+08</td>\n",
       "      <td>4.408537e+16</td>\n",
       "      <td>2.099568e+08</td>\n",
       "      <td>4.216749e-01</td>\n",
       "    </tr>\n",
       "    <tr>\n",
       "      <th>2</th>\n",
       "      <td>Random Forest Regressor</td>\n",
       "      <td>1.531143e+08</td>\n",
       "      <td>4.545660e+16</td>\n",
       "      <td>2.132050e+08</td>\n",
       "      <td>4.037695e-01</td>\n",
       "    </tr>\n",
       "    <tr>\n",
       "      <th>3</th>\n",
       "      <td>Bagging Regressor</td>\n",
       "      <td>1.558351e+08</td>\n",
       "      <td>4.763285e+16</td>\n",
       "      <td>2.182457e+08</td>\n",
       "      <td>3.751743e-01</td>\n",
       "    </tr>\n",
       "    <tr>\n",
       "      <th>4</th>\n",
       "      <td>Linear Regression</td>\n",
       "      <td>4.680200e+16</td>\n",
       "      <td>4.195764e+36</td>\n",
       "      <td>1.182619e+18</td>\n",
       "      <td>5.576350e+19</td>\n",
       "    </tr>\n",
       "    <tr>\n",
       "      <th>5</th>\n",
       "      <td>Ridge Regression</td>\n",
       "      <td>1.657826e+08</td>\n",
       "      <td>4.601722e+16</td>\n",
       "      <td>2.145077e+08</td>\n",
       "      <td>3.963223e-01</td>\n",
       "    </tr>\n",
       "    <tr>\n",
       "      <th>6</th>\n",
       "      <td>Lasso Regression</td>\n",
       "      <td>1.663559e+08</td>\n",
       "      <td>4.626653e+16</td>\n",
       "      <td>2.150870e+08</td>\n",
       "      <td>3.930445e-01</td>\n",
       "    </tr>\n",
       "    <tr>\n",
       "      <th>7</th>\n",
       "      <td>Decision Tree Regressor</td>\n",
       "      <td>1.788701e+08</td>\n",
       "      <td>6.993970e+16</td>\n",
       "      <td>2.644482e+08</td>\n",
       "      <td>8.253817e-02</td>\n",
       "    </tr>\n",
       "    <tr>\n",
       "      <th>8</th>\n",
       "      <td>Adaboost Regressor</td>\n",
       "      <td>1.827033e+08</td>\n",
       "      <td>5.112152e+16</td>\n",
       "      <td>2.260617e+08</td>\n",
       "      <td>3.292828e-01</td>\n",
       "    </tr>\n",
       "    <tr>\n",
       "      <th>9</th>\n",
       "      <td>KNeighborsRegressor</td>\n",
       "      <td>1.614798e+08</td>\n",
       "      <td>4.798467e+16</td>\n",
       "      <td>2.190462e+08</td>\n",
       "      <td>3.706187e-01</td>\n",
       "    </tr>\n",
       "  </tbody>\n",
       "</table>\n",
       "</div>"
      ],
      "text/plain": [
       "                         Model           MAE           MSE          RMSE  \\\n",
       "0         ExtraTrees Regressor  1.562739e+08  5.106638e+16  2.259748e+08   \n",
       "1  Gradient Boosting Regressor  1.619592e+08  4.408537e+16  2.099568e+08   \n",
       "2      Random Forest Regressor  1.531143e+08  4.545660e+16  2.132050e+08   \n",
       "3            Bagging Regressor  1.558351e+08  4.763285e+16  2.182457e+08   \n",
       "4            Linear Regression  4.680200e+16  4.195764e+36  1.182619e+18   \n",
       "5             Ridge Regression  1.657826e+08  4.601722e+16  2.145077e+08   \n",
       "6             Lasso Regression  1.663559e+08  4.626653e+16  2.150870e+08   \n",
       "7      Decision Tree Regressor  1.788701e+08  6.993970e+16  2.644482e+08   \n",
       "8           Adaboost Regressor  1.827033e+08  5.112152e+16  2.260617e+08   \n",
       "9          KNeighborsRegressor  1.614798e+08  4.798467e+16  2.190462e+08   \n",
       "\n",
       "      R Squared  \n",
       "0  3.301549e-01  \n",
       "1  4.216749e-01  \n",
       "2  4.037695e-01  \n",
       "3  3.751743e-01  \n",
       "4  5.576350e+19  \n",
       "5  3.963223e-01  \n",
       "6  3.930445e-01  \n",
       "7  8.253817e-02  \n",
       "8  3.292828e-01  \n",
       "9  3.706187e-01  "
      ]
     },
     "execution_count": 106,
     "metadata": {},
     "output_type": "execute_result"
    }
   ],
   "source": [
    "evaluation_dataframe"
   ]
  },
  {
   "cell_type": "markdown",
   "metadata": {},
   "source": [
    "So its obvious that Gradiant Boosting Regressor has much better performance, it has the largest R Squered and samllest MSE and RMSE"
   ]
  },
  {
   "cell_type": "markdown",
   "metadata": {},
   "source": [
    "# 5. Parameter Tuning"
   ]
  },
  {
   "cell_type": "markdown",
   "metadata": {},
   "source": [
    "We use RandomizedSearchCV for parameter tuning to save time. <b> because we have samll amount data </b> , i didnt build validatin set for parameter tuning and i used that train set for this"
   ]
  },
  {
   "cell_type": "code",
   "execution_count": 115,
   "metadata": {},
   "outputs": [
    {
     "name": "stdout",
     "output_type": "stream",
     "text": [
      "gb best values based on r2: {'n_estimators': 100, 'min_samples_split': 0.1, 'min_samples_leaf': 0.1, 'max_features': 190, 'max_depth': 29.0, 'learning_rate': 0.25}\n",
      "gb best score based on r2: 0.38131822912201613\n"
     ]
    }
   ],
   "source": [
    "from sklearn.model_selection import RandomizedSearchCV\n",
    "rand_val_gb = {'learning_rate' : [1, 0.5, 0.25, 0.1, 0.05, 0.01],\n",
    "               'max_depth' : np.linspace(1, 32, 32, endpoint=True),\n",
    "                   'min_samples_split' : np.linspace(0.1, 1.0, 10, endpoint=True),\n",
    "                   'min_samples_leaf' : np.linspace(0.1, 0.5, 5, endpoint=True),\n",
    "                   'max_features' : list(range(1,X_train.shape[1])),\n",
    "                   'n_estimators' : [1, 2, 4, 8, 16, 32, 64, 100, 200]}\n",
    "\n",
    "rand_src = RandomizedSearchCV(estimator=GradientBoostingRegressor(random_state = 42),\n",
    "                               param_distributions = rand_val_gb, cv = 3, n_jobs=-1 , scoring = 'r2',n_iter = 200)\n",
    "rand_src.fit(X_train,y_train)\n",
    "\n",
    "print('gb best values based on r2:',rand_src.best_params_ )\n",
    "print('gb best score based on r2:',rand_src.best_score_ )"
   ]
  },
  {
   "cell_type": "markdown",
   "metadata": {},
   "source": [
    "As we see above, a simple GBRegressor has better performace with out these parameter. so we continue without parameter tunning"
   ]
  },
  {
   "cell_type": "markdown",
   "metadata": {},
   "source": [
    "# 6. Model Evaluation"
   ]
  },
  {
   "cell_type": "code",
   "execution_count": 116,
   "metadata": {},
   "outputs": [],
   "source": [
    "gb = GradientBoostingRegressor().fit(X_train,y_train)\n",
    "y_pred = gb.predict(X_test)"
   ]
  },
  {
   "cell_type": "markdown",
   "metadata": {},
   "source": [
    "And here is final scores of model on the test set"
   ]
  },
  {
   "cell_type": "code",
   "execution_count": 118,
   "metadata": {},
   "outputs": [
    {
     "name": "stdout",
     "output_type": "stream",
     "text": [
      "GBRegression on test set: \n",
      " MAE:160931069.754 \n",
      " MSE:43931713944737880.000 \n",
      " RMSE:209598935.934 \n",
      " R_Squared:0.415\n"
     ]
    }
   ],
   "source": [
    "from sklearn import metrics\n",
    "print('GBRegression on test set:','\\n',\n",
    "      'MAE:{:.3f}'.format(metrics.mean_absolute_error(y_test,y_pred)),\n",
    "        '\\n','MSE:{:.3f}'.format(metrics.mean_squared_error(y_test,y_pred)),\n",
    "        '\\n','RMSE:{:.3f}'.format(np.sqrt(metrics.mean_squared_error(y_test,y_pred))),\n",
    "        '\\n','R_Squared:{:.3f}'.format(metrics.r2_score(y_test,y_pred)))"
   ]
  },
  {
   "cell_type": "markdown",
   "metadata": {},
   "source": [
    "<b> Final and important Note: </b> I tried many other ways to gain better results, like using PCA for Feature Extraction, Polinaminal Regression as Model and etc. but this was the best result I made and I didnt put other ways in mu notebook. That would be my pleasure if you guid me for better result! Tnx a lot"
   ]
  }
 ],
 "metadata": {
  "kernelspec": {
   "display_name": "Python 3 (ipykernel)",
   "language": "python",
   "name": "python3"
  },
  "language_info": {
   "codemirror_mode": {
    "name": "ipython",
    "version": 3
   },
   "file_extension": ".py",
   "mimetype": "text/x-python",
   "name": "python",
   "nbconvert_exporter": "python",
   "pygments_lexer": "ipython3",
   "version": "3.9.12"
  }
 },
 "nbformat": 4,
 "nbformat_minor": 4
}
